{
 "cells": [
  {
   "cell_type": "code",
   "execution_count": 81,
   "source": [
    "import cv2\n",
    "import numpy as np\n",
    "from glob import glob\n",
    "import albumentations as a\n",
    "import os\n",
    "import shutil"
   ],
   "outputs": [],
   "metadata": {}
  },
  {
   "cell_type": "code",
   "execution_count": 55,
   "source": [
    "img_path = glob('../data/selected_data/*/*png')"
   ],
   "outputs": [],
   "metadata": {}
  },
  {
   "cell_type": "code",
   "execution_count": 56,
   "source": [
    "img_path = sorted(img_path)"
   ],
   "outputs": [],
   "metadata": {}
  },
  {
   "cell_type": "code",
   "execution_count": 54,
   "source": [
    "dir = '../data/selected_data/15_51_59'\n",
    "files = os.listdir(dir)\n",
    "\n",
    "for file_name in files:\n",
    "    if file_name[-3:] == 'png':\n",
    "        file_rename = lambda x : x.split('.')[0].zfill(2) + '.png'\n",
    "        file_rename = file_rename(file_name)\n",
    "\n",
    "        old_path = os.path.join(dir, file_name)\n",
    "        new_path = os.path.join(dir, file_rename)\n",
    "        # print(file_rename)\n",
    "        os.rename(old_path, new_path)"
   ],
   "outputs": [],
   "metadata": {}
  },
  {
   "cell_type": "code",
   "execution_count": 48,
   "source": [
    "file_rename('14.png')"
   ],
   "outputs": [
    {
     "output_type": "execute_result",
     "data": {
      "text/plain": [
       "'14.png'"
      ]
     },
     "metadata": {},
     "execution_count": 48
    }
   ],
   "metadata": {}
  },
  {
   "cell_type": "code",
   "execution_count": 58,
   "source": [
    "img_path = glob('../data/selected_data/*/*png')\n",
    "img_path = sorted(img_path)"
   ],
   "outputs": [],
   "metadata": {}
  },
  {
   "cell_type": "code",
   "execution_count": 80,
   "source": [
    "def dir_file_rename(path):\n",
    "    return '_'.join(path.split('/')[-2:])"
   ],
   "outputs": [],
   "metadata": {}
  },
  {
   "cell_type": "code",
   "execution_count": 83,
   "source": [
    "new_dir = '../data/selected_data/all'\n",
    "os.makedirs(new_dir, exist_ok=True)\n",
    "\n",
    "for dir in img_path:\n",
    "    rename_file = dir_file_rename(dir)\n",
    "    new_file = os.path.join(new_dir, rename_file)\n",
    "    shutil.copy(dir, new_file)"
   ],
   "outputs": [],
   "metadata": {}
  },
  {
   "cell_type": "code",
   "execution_count": null,
   "source": [],
   "outputs": [],
   "metadata": {}
  }
 ],
 "metadata": {
  "orig_nbformat": 4,
  "language_info": {
   "name": "python",
   "version": "3.6.13",
   "mimetype": "text/x-python",
   "codemirror_mode": {
    "name": "ipython",
    "version": 3
   },
   "pygments_lexer": "ipython3",
   "nbconvert_exporter": "python",
   "file_extension": ".py"
  },
  "kernelspec": {
   "name": "python3",
   "display_name": "Python 3.6.13 64-bit ('BM_elec': conda)"
  },
  "interpreter": {
   "hash": "1db38751d93214fc668977fdb3f88cd85951a08ca59354da41cecfbaca19c12c"
  }
 },
 "nbformat": 4,
 "nbformat_minor": 2
}